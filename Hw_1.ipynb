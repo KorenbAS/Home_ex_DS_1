{
 "cells": [
  {
   "cell_type": "code",
   "execution_count": 1,
   "id": "2819e94c-6d70-4740-8a2b-adf0966bf439",
   "metadata": {},
   "outputs": [
    {
     "name": "stdout",
     "output_type": "stream",
     "text": [
      "[ 1  2  3  4  5  6  7  8  9 10]\n"
     ]
    }
   ],
   "source": [
    "# task 1\n",
    "import numpy as np\n",
    "\n",
    "# Create a one-dimensional array with the first 10 natural numbers\n",
    "vector = np.arange(1, 11)\n",
    "\n",
    "# Print the values of the vector\n",
    "print(vector)"
   ]
  },
  {
   "cell_type": "code",
   "execution_count": 2,
   "id": "d4f008a6-6613-45e4-b27c-6e03293acfb4",
   "metadata": {},
   "outputs": [
    {
     "name": "stdout",
     "output_type": "stream",
     "text": [
      "[[0. 0. 0.]\n",
      " [0. 0. 0.]\n",
      " [0. 0. 0.]]\n"
     ]
    }
   ],
   "source": [
    "# task 2\n",
    "import numpy as np\n",
    "\n",
    "# Create a 3x3 matrix filled with zeros\n",
    "matrix = np.zeros((3, 3))\n",
    "\n",
    "# Print the values of the matrix\n",
    "print(matrix)"
   ]
  },
  {
   "cell_type": "code",
   "execution_count": 3,
   "id": "48484619-bf9d-4c6b-842f-9196020da88e",
   "metadata": {},
   "outputs": [
    {
     "name": "stdout",
     "output_type": "stream",
     "text": [
      "[[ 6  6  4  7  1]\n",
      " [ 6  1  9 10 10]\n",
      " [ 6  5  1  9  4]\n",
      " [10  3  8  1  7]\n",
      " [ 5  7  8  9  7]]\n"
     ]
    }
   ],
   "source": [
    "# task 3\n",
    "import numpy as np\n",
    "\n",
    "# Create a 5x5 matrix filled with random integers in the range of 1 to 10\n",
    "matrix = np.random.randint(1, 11, size=(5, 5))\n",
    "\n",
    "# Print the values of the matrix\n",
    "print(matrix)"
   ]
  },
  {
   "cell_type": "code",
   "execution_count": 4,
   "id": "e0f6b929-506e-49d6-983e-3f8a15d497d6",
   "metadata": {},
   "outputs": [
    {
     "name": "stdout",
     "output_type": "stream",
     "text": [
      "[[0.51599303 0.03992134 0.20546283 0.24088183]\n",
      " [0.26740419 0.35661438 0.2709782  0.32725397]\n",
      " [0.49877941 0.37649449 0.20315686 0.19482914]\n",
      " [0.7360736  0.60654149 0.80711104 0.13321254]]\n"
     ]
    }
   ],
   "source": [
    "# task 4\n",
    "import numpy as np\n",
    "\n",
    "# Create a 4x4 matrix filled with random floating-point numbers in the range of 0 to 1\n",
    "matrix = np.random.rand(4, 4)\n",
    "\n",
    "# Print the values of the matrix\n",
    "print(matrix)"
   ]
  },
  {
   "cell_type": "code",
   "execution_count": 5,
   "id": "74424a3e-96f9-4edd-a1ab-2906a422f673",
   "metadata": {},
   "outputs": [
    {
     "name": "stdout",
     "output_type": "stream",
     "text": [
      "Addition: [ 7 11 11  8  2]\n",
      "Subtraction: [ 1  1 -3  0  0]\n",
      "Multiplication: [12 30 28 16  1]\n"
     ]
    }
   ],
   "source": [
    "# task 5\n",
    "import numpy as np\n",
    "\n",
    "# Create two 1-dimensional arrays of size 5 filled with random integers in the range of 1 to 10\n",
    "array1 = np.random.randint(1, 11, size=5)\n",
    "array2 = np.random.randint(1, 11, size=5)\n",
    "\n",
    "# Perform element-wise addition, subtraction, and multiplication\n",
    "addition = array1 + array2\n",
    "subtraction = array1 - array2\n",
    "multiplication = array1 * array2\n",
    "\n",
    "# Print the results\n",
    "print(\"Addition:\", addition)\n",
    "print(\"Subtraction:\", subtraction)\n",
    "print(\"Multiplication:\", multiplication)"
   ]
  },
  {
   "cell_type": "code",
   "execution_count": 21,
   "id": "f04d3ef3-40c0-46d2-97e6-bd0070b41672",
   "metadata": {},
   "outputs": [
    {
     "name": "stdout",
     "output_type": "stream",
     "text": [
      "[ 6 10  4  1  3  3  1]\n",
      "[2 6 1 7 3 2 5]\n",
      "Dot product: 103\n"
     ]
    }
   ],
   "source": [
    "# task 6\n",
    "import numpy as np\n",
    "\n",
    "# Create two 1-dimensional arrays (vectors) of size 7 filled with random integers\n",
    "vector1 = np.random.randint(1, 11, size=7)\n",
    "vector2 = np.random.randint(1, 11, size=7)\n",
    "\n",
    "# Find the dot product (scalar product) of the two vectors\n",
    "dot_product = np.dot(vector1, vector2)\n",
    "\n",
    "# Print the result\n",
    "print(vector1)\n",
    "print(vector2)\n",
    "print(\"Dot product:\", dot_product)"
   ]
  },
  {
   "cell_type": "code",
   "execution_count": 22,
   "id": "327fffe1-a8ad-46fa-862d-6384dcf94233",
   "metadata": {},
   "outputs": [
    {
     "name": "stdout",
     "output_type": "stream",
     "text": [
      "[[5 7]\n",
      " [1 1]]\n",
      "[[5 9 9]\n",
      " [2 8 6]]\n",
      "Product of the two matrices:\n",
      " [[ 39 101  87]\n",
      " [  7  17  15]]\n"
     ]
    }
   ],
   "source": [
    "# task 7\n",
    "import numpy as np\n",
    "\n",
    "# Create a 2x2 matrix filled with random integers in the range of 1 to 10\n",
    "matrix1 = np.random.randint(1, 11, size=(2, 2))\n",
    "\n",
    "# Create a 2x3 matrix filled with random integers in the range of 1 to 10\n",
    "matrix2 = np.random.randint(1, 11, size=(2, 3))\n",
    "\n",
    "# Multiply the two matrices\n",
    "product = np.dot(matrix1, matrix2)\n",
    "\n",
    "# Print the result\n",
    "print(matrix1)\n",
    "print(matrix2)\n",
    "print(\"Product of the two matrices:\\n\", product)"
   ]
  },
  {
   "cell_type": "code",
   "execution_count": 25,
   "id": "de696710-040b-449b-a5c9-d56edc1bf008",
   "metadata": {},
   "outputs": [
    {
     "name": "stdout",
     "output_type": "stream",
     "text": [
      "[[10  4  7]\n",
      " [ 1  6  4]\n",
      " [ 2 10  3]]\n",
      "Inverse of the matrix:\n",
      " [[ 0.10280374 -0.27102804  0.12149533]\n",
      " [-0.02336449 -0.07476636  0.15420561]\n",
      " [ 0.00934579  0.42990654 -0.26168224]]\n"
     ]
    }
   ],
   "source": [
    "# task 8\n",
    "import numpy as np\n",
    "\n",
    "# Create a 3x3 matrix filled with random integers in the range of 1 to 10\n",
    "matrix = np.random.randint(1, 11, size=(3, 3))\n",
    "print(matrix)\n",
    "\n",
    "# Find the inverse of the matrix\n",
    "inverse = np.linalg.inv(matrix)\n",
    "\n",
    "# Print the result\n",
    "print(\"Inverse of the matrix:\\n\", inverse)"
   ]
  },
  {
   "cell_type": "code",
   "execution_count": 26,
   "id": "b76fae8d-0c8c-4e45-8629-2e4ebf582711",
   "metadata": {},
   "outputs": [
    {
     "name": "stdout",
     "output_type": "stream",
     "text": [
      "[[0.48288587 0.71971772 0.4661058  0.81531144]\n",
      " [0.66533925 0.20390271 0.7181393  0.15239369]\n",
      " [0.95788057 0.70586166 0.74044957 0.59792298]\n",
      " [0.65196769 0.60305239 0.64188881 0.84331566]]\n",
      "Transposed matrix:\n",
      " [[0.48288587 0.66533925 0.95788057 0.65196769]\n",
      " [0.71971772 0.20390271 0.70586166 0.60305239]\n",
      " [0.4661058  0.7181393  0.74044957 0.64188881]\n",
      " [0.81531144 0.15239369 0.59792298 0.84331566]]\n"
     ]
    }
   ],
   "source": [
    "# task 9\n",
    "import numpy as np\n",
    "\n",
    "# Create a 4x4 matrix filled with random floating-point numbers in the range of 0 to 1\n",
    "matrix = np.random.rand(4, 4)\n",
    "print(matrix)\n",
    "\n",
    "# Transpose the matrix\n",
    "transposed = matrix.T\n",
    "\n",
    "# Print the result\n",
    "print(\"Transposed matrix:\\n\", transposed)"
   ]
  },
  {
   "cell_type": "code",
   "execution_count": 27,
   "id": "003664c6-d593-4b87-b750-53c4c4c35d31",
   "metadata": {},
   "outputs": [
    {
     "name": "stdout",
     "output_type": "stream",
     "text": [
      "[[ 5  9 10  1]\n",
      " [ 1  5  9  8]\n",
      " [ 5  9  5  1]]\n",
      "[3 3 1 3]\n",
      "Product of the matrix and the vector: [55 51 50]\n"
     ]
    }
   ],
   "source": [
    "# task 10\n",
    "import numpy as np\n",
    "\n",
    "# Create a 3x4 matrix filled with random integers in the range of 1 to 10\n",
    "matrix = np.random.randint(1, 11, size=(3, 4))\n",
    "print(matrix)\n",
    "\n",
    "# Create a 4-dimensional vector filled with random integers in the range of 1 to 10\n",
    "vector = np.random.randint(1, 11, size=4)\n",
    "print(vector)\n",
    "\n",
    "# Multiply the matrix by the vector\n",
    "product = np.dot(matrix, vector)\n",
    "\n",
    "# Print the result\n",
    "print(\"Product of the matrix and the vector:\", product)"
   ]
  },
  {
   "cell_type": "code",
   "execution_count": 28,
   "id": "0bf292e9-b7d2-436f-993c-0804ec84890e",
   "metadata": {},
   "outputs": [
    {
     "name": "stdout",
     "output_type": "stream",
     "text": [
      "[[0.26764245 0.34910924 0.15616979]\n",
      " [0.61740932 0.86882985 0.47164188]]\n",
      "[0.31427209 0.5721786  0.41309332]\n",
      "Product of the matrix and the vector: [0.34837809 0.88599247]\n"
     ]
    }
   ],
   "source": [
    "# task 11\n",
    "import numpy as np\n",
    "\n",
    "# Create a 2x3 matrix filled with random floating-point numbers in the range of 0 to 1\n",
    "matrix = np.random.rand(2, 3)\n",
    "print(matrix)\n",
    "\n",
    "# Create a 3-dimensional vector filled with random floating-point numbers in the range of 0 to 1\n",
    "vector = np.random.rand(3)\n",
    "print(vector)\n",
    "\n",
    "# Multiply the matrix by the vector\n",
    "product = np.dot(matrix, vector)\n",
    "\n",
    "# Print the result\n",
    "print(\"Product of the matrix and the vector:\", product)"
   ]
  },
  {
   "cell_type": "code",
   "execution_count": 29,
   "id": "e765a081-471d-494e-b8ca-b3c63c7a3125",
   "metadata": {},
   "outputs": [
    {
     "name": "stdout",
     "output_type": "stream",
     "text": [
      "[[10  9]\n",
      " [ 1  4]]\n",
      "[[2 1]\n",
      " [4 6]]\n",
      "Element-wise product of the two matrices:\n",
      " [[20  9]\n",
      " [ 4 24]]\n"
     ]
    }
   ],
   "source": [
    "# task 12\n",
    "import numpy as np\n",
    "\n",
    "# Create two 2x2 matrices filled with random integers in the range of 1 to 10\n",
    "matrix1 = np.random.randint(1, 11, size=(2, 2))\n",
    "matrix2 = np.random.randint(1, 11, size=(2, 2))\n",
    "\n",
    "# Perform element-wise multiplication\n",
    "elementwise_product = np.multiply(matrix1, matrix2)\n",
    "\n",
    "# Print the result\n",
    "print(matrix1)\n",
    "print(matrix2)\n",
    "print(\"Element-wise product of the two matrices:\\n\", elementwise_product)"
   ]
  },
  {
   "cell_type": "code",
   "execution_count": 30,
   "id": "b29bdbf9-8c5c-4a30-b737-5ebe21948f95",
   "metadata": {},
   "outputs": [
    {
     "name": "stdout",
     "output_type": "stream",
     "text": [
      "[[ 3  9]\n",
      " [ 2 10]]\n",
      "[[8 8]\n",
      " [4 5]]\n",
      "Product of the two matrices:\n",
      " [[60 69]\n",
      " [56 66]]\n"
     ]
    }
   ],
   "source": [
    "# task 13\n",
    "import numpy as np\n",
    "\n",
    "# Create two 2x2 matrices filled with random integers in the range of 1 to 10\n",
    "matrix1 = np.random.randint(1, 11, size=(2, 2))\n",
    "matrix2 = np.random.randint(1, 11, size=(2, 2))\n",
    "\n",
    "# Multiply the two matrices\n",
    "product = np.dot(matrix1, matrix2)\n",
    "\n",
    "# Print the result\n",
    "print(matrix1)\n",
    "print(matrix2)\n",
    "print(\"Product of the two matrices:\\n\", product)"
   ]
  },
  {
   "cell_type": "code",
   "execution_count": 31,
   "id": "0d28f4ac-0586-40ec-902b-ff73e3fbf0bd",
   "metadata": {},
   "outputs": [
    {
     "name": "stdout",
     "output_type": "stream",
     "text": [
      "[[ 45  69  24  66  57]\n",
      " [ 88  18  23  68  48]\n",
      " [ 36  25  89   5  30]\n",
      " [ 34  17 100  69  86]\n",
      " [ 52  11  86   4  67]]\n",
      "Sum of the elements in the matrix: 1217\n"
     ]
    }
   ],
   "source": [
    "# task 14\n",
    "import numpy as np\n",
    "\n",
    "# Create a 5x5 matrix filled with random integers in the range of 1 to 100\n",
    "matrix = np.random.randint(1, 101, size=(5, 5))\n",
    "\n",
    "# Find the sum of the elements in the matrix\n",
    "sum_of_elements = np.sum(matrix)\n",
    "\n",
    "# Print the result\n",
    "print(matrix)\n",
    "print(\"Sum of the elements in the matrix:\", sum_of_elements)"
   ]
  },
  {
   "cell_type": "code",
   "execution_count": 32,
   "id": "13d75b54-99dd-4df8-82ce-1196f90996b8",
   "metadata": {},
   "outputs": [
    {
     "name": "stdout",
     "output_type": "stream",
     "text": [
      "[[9 1 4 5]\n",
      " [4 9 8 9]\n",
      " [2 2 1 8]\n",
      " [9 7 5 8]]\n",
      "[[ 1  8  6  9]\n",
      " [ 4  7  9  1]\n",
      " [ 1  6  2  6]\n",
      " [ 6  6  3 10]]\n",
      "Difference between the two matrices:\n",
      " [[ 8 -7 -2 -4]\n",
      " [ 0  2 -1  8]\n",
      " [ 1 -4 -1  2]\n",
      " [ 3  1  2 -2]]\n"
     ]
    }
   ],
   "source": [
    "# task 15\n",
    "import numpy as np\n",
    "\n",
    "# Create two 4x4 matrices filled with random integers in the range of 1 to 10\n",
    "matrix1 = np.random.randint(1, 11, size=(4, 4))\n",
    "matrix2 = np.random.randint(1, 11, size=(4, 4))\n",
    "\n",
    "# Find the difference between the two matrices\n",
    "difference = matrix1 - matrix2\n",
    "\n",
    "# Print the result\n",
    "print(matrix1)\n",
    "print(matrix2)\n",
    "print(\"Difference between the two matrices:\\n\", difference)"
   ]
  },
  {
   "cell_type": "code",
   "execution_count": 33,
   "id": "d3350838-c35b-4fbf-8080-8fc85c224921",
   "metadata": {},
   "outputs": [
    {
     "name": "stdout",
     "output_type": "stream",
     "text": [
      "[[0.93480306 0.41956748 0.2235064 ]\n",
      " [0.94251561 0.44001569 0.90372798]\n",
      " [0.91264066 0.85036937 0.02041105]]\n",
      "Vector-column containing the sum of the elements in each row:\n",
      " [1.57787695 2.28625928 1.78342108]\n"
     ]
    }
   ],
   "source": [
    "# task 16\n",
    "import numpy as np\n",
    "\n",
    "# Create a 3x3 matrix filled with random floating-point numbers in the range of 0 to 1\n",
    "matrix = np.random.rand(3, 3)\n",
    "\n",
    "# Find the sum of the elements in each row\n",
    "row_sums = np.sum(matrix, axis=1)\n",
    "\n",
    "# Print the result\n",
    "print(matrix)\n",
    "print(\"Vector-column containing the sum of the elements in each row:\\n\", row_sums)"
   ]
  },
  {
   "cell_type": "code",
   "execution_count": 34,
   "id": "718fbbc3-b22a-4f4e-9d0a-e39c6c0188d4",
   "metadata": {},
   "outputs": [
    {
     "name": "stdout",
     "output_type": "stream",
     "text": [
      "[[10 10  6  7]\n",
      " [ 5  3  1  6]\n",
      " [ 9 10  4  5]]\n",
      "Matrix with the squares of the numbers in the original matrix:\n",
      " [[100 100  36  49]\n",
      " [ 25   9   1  36]\n",
      " [ 81 100  16  25]]\n"
     ]
    }
   ],
   "source": [
    "# task 17\n",
    "import numpy as np\n",
    "\n",
    "# Create a 3x4 matrix filled with random integers\n",
    "matrix = np.random.randint(1, 11, size=(3, 4))\n",
    "\n",
    "# Create a new matrix with the squares of the numbers in the original matrix\n",
    "squared_matrix = np.square(matrix)\n",
    "\n",
    "# Print the result\n",
    "print(matrix)\n",
    "print(\"Matrix with the squares of the numbers in the original matrix:\\n\", squared_matrix)"
   ]
  },
  {
   "cell_type": "code",
   "execution_count": 35,
   "id": "ccd0f4f5-6fd9-4f37-91f8-3bb6b6cdff56",
   "metadata": {},
   "outputs": [
    {
     "name": "stdout",
     "output_type": "stream",
     "text": [
      "[28 24 30 45]\n",
      "Vector with the square roots of the numbers in the original vector: [5.29150262 4.89897949 5.47722558 6.70820393]\n"
     ]
    }
   ],
   "source": [
    "# task 18\n",
    "import numpy as np\n",
    "\n",
    "# Create a 4-dimensional vector filled with random integers in the range of 1 to 50\n",
    "vector = np.random.randint(1, 51, size=4)\n",
    "\n",
    "# Find the square roots of the numbers in the vector\n",
    "square_roots = np.sqrt(vector)\n",
    "\n",
    "# Print the result\n",
    "print(vector)\n",
    "print(\"Vector with the square roots of the numbers in the original vector:\", square_roots)"
   ]
  },
  {
   "cell_type": "code",
   "execution_count": null,
   "id": "fd1155dd-12c4-4236-ba1a-791038dcb6da",
   "metadata": {},
   "outputs": [],
   "source": []
  }
 ],
 "metadata": {
  "kernelspec": {
   "display_name": "Python 3 (ipykernel)",
   "language": "python",
   "name": "python3"
  },
  "language_info": {
   "codemirror_mode": {
    "name": "ipython",
    "version": 3
   },
   "file_extension": ".py",
   "mimetype": "text/x-python",
   "name": "python",
   "nbconvert_exporter": "python",
   "pygments_lexer": "ipython3",
   "version": "3.11.3"
  }
 },
 "nbformat": 4,
 "nbformat_minor": 5
}
